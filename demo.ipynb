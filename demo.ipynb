{
 "cells": [
  {
   "cell_type": "code",
   "execution_count": 9,
   "metadata": {},
   "outputs": [],
   "source": [
    "import pandas as pd \n",
    "from reg_score import transferability_score, transferability_score_ridge\n",
    "from logme import LogME\n",
    "import pickle as pkl\n",
    "import glob\n",
    "import os\n",
    "import numpy as np\n",
    "from tqdm import tqdm\n",
    "np.random.seed(42)"
   ]
  },
  {
   "cell_type": "code",
   "execution_count": 10,
   "metadata": {},
   "outputs": [
    {
     "data": {
      "text/plain": [
       "255"
      ]
     },
     "execution_count": 10,
     "metadata": {},
     "output_type": "execute_result"
    }
   ],
   "source": [
    "path = './asset/openmonkey_cub_features/*.pkl'\n",
    "files = glob.glob(path)\n",
    "len(files)"
   ]
  },
  {
   "cell_type": "code",
   "execution_count": 11,
   "metadata": {},
   "outputs": [
    {
     "name": "stderr",
     "output_type": "stream",
     "text": [
      "100%|██████████| 255/255 [03:01<00:00,  1.40it/s]\n"
     ]
    }
   ],
   "source": [
    "results = []\n",
    "alphas = [0.0, 1.0]\n",
    "for file in tqdm(files):\n",
    "    result = {}\n",
    "    with open(file, 'rb') as f:\n",
    "        data = pkl.load(f)\n",
    "        feature = data['train_features'][0]\n",
    "        y_true = data['train_labels']\n",
    "        n = y_true.shape[0]\n",
    "\n",
    "    file_name = os.path.split(file)[-1]\n",
    "    source = file_name.split('.')[0].split('_')[-3]\n",
    "    target = file_name.split('.')[0].split('_')[-1]\n",
    "\n",
    "    result['openmonkey_source'] = int(source)\n",
    "    result['cub_target'] = int(target)\n",
    "    \n",
    "    for alpha in alphas:\n",
    "        key = f\"linmse_{alpha}\"\n",
    "        if alpha == 0.0:\n",
    "            score = transferability_score(feature, y_true)\n",
    "        else:\n",
    "            score = transferability_score_ridge(feature, y_true, n * alpha)\n",
    "        result[key] = score\n",
    "    \n",
    "    logme = LogME(regression=True)._fit_icml(feature, y_true)\n",
    "    result['logme'] = logme\n",
    "\n",
    "    results.append(result) \n",
    "results_df = pd.DataFrame(results)"
   ]
  },
  {
   "cell_type": "code",
   "execution_count": 12,
   "metadata": {},
   "outputs": [
    {
     "data": {
      "text/html": [
       "<div>\n",
       "<style scoped>\n",
       "    .dataframe tbody tr th:only-of-type {\n",
       "        vertical-align: middle;\n",
       "    }\n",
       "\n",
       "    .dataframe tbody tr th {\n",
       "        vertical-align: top;\n",
       "    }\n",
       "\n",
       "    .dataframe thead th {\n",
       "        text-align: right;\n",
       "    }\n",
       "</style>\n",
       "<table border=\"1\" class=\"dataframe\">\n",
       "  <thead>\n",
       "    <tr style=\"text-align: right;\">\n",
       "      <th></th>\n",
       "      <th>openmonkey_source</th>\n",
       "      <th>cub_target</th>\n",
       "      <th>linmse_0.0</th>\n",
       "      <th>linmse_1.0</th>\n",
       "      <th>logme</th>\n",
       "    </tr>\n",
       "  </thead>\n",
       "  <tbody>\n",
       "    <tr>\n",
       "      <th>0</th>\n",
       "      <td>6</td>\n",
       "      <td>8</td>\n",
       "      <td>-0.067813</td>\n",
       "      <td>-0.080991</td>\n",
       "      <td>-0.130522</td>\n",
       "    </tr>\n",
       "    <tr>\n",
       "      <th>1</th>\n",
       "      <td>2</td>\n",
       "      <td>8</td>\n",
       "      <td>-0.066895</td>\n",
       "      <td>-0.080993</td>\n",
       "      <td>-0.121266</td>\n",
       "    </tr>\n",
       "    <tr>\n",
       "      <th>2</th>\n",
       "      <td>1</td>\n",
       "      <td>10</td>\n",
       "      <td>-0.012645</td>\n",
       "      <td>-0.017705</td>\n",
       "      <td>0.718397</td>\n",
       "    </tr>\n",
       "    <tr>\n",
       "      <th>3</th>\n",
       "      <td>13</td>\n",
       "      <td>10</td>\n",
       "      <td>-0.013624</td>\n",
       "      <td>-0.017714</td>\n",
       "      <td>0.654683</td>\n",
       "    </tr>\n",
       "    <tr>\n",
       "      <th>4</th>\n",
       "      <td>10</td>\n",
       "      <td>3</td>\n",
       "      <td>-0.030904</td>\n",
       "      <td>-0.039254</td>\n",
       "      <td>0.230165</td>\n",
       "    </tr>\n",
       "    <tr>\n",
       "      <th>...</th>\n",
       "      <td>...</td>\n",
       "      <td>...</td>\n",
       "      <td>...</td>\n",
       "      <td>...</td>\n",
       "      <td>...</td>\n",
       "    </tr>\n",
       "    <tr>\n",
       "      <th>250</th>\n",
       "      <td>9</td>\n",
       "      <td>7</td>\n",
       "      <td>-0.032198</td>\n",
       "      <td>-0.042293</td>\n",
       "      <td>0.218401</td>\n",
       "    </tr>\n",
       "    <tr>\n",
       "      <th>251</th>\n",
       "      <td>5</td>\n",
       "      <td>7</td>\n",
       "      <td>-0.032704</td>\n",
       "      <td>-0.042295</td>\n",
       "      <td>0.225340</td>\n",
       "    </tr>\n",
       "    <tr>\n",
       "      <th>252</th>\n",
       "      <td>13</td>\n",
       "      <td>5</td>\n",
       "      <td>-0.011901</td>\n",
       "      <td>-0.017452</td>\n",
       "      <td>0.676503</td>\n",
       "    </tr>\n",
       "    <tr>\n",
       "      <th>253</th>\n",
       "      <td>11</td>\n",
       "      <td>11</td>\n",
       "      <td>-0.038638</td>\n",
       "      <td>-0.058813</td>\n",
       "      <td>0.147090</td>\n",
       "    </tr>\n",
       "    <tr>\n",
       "      <th>254</th>\n",
       "      <td>1</td>\n",
       "      <td>7</td>\n",
       "      <td>-0.030386</td>\n",
       "      <td>-0.042286</td>\n",
       "      <td>0.262143</td>\n",
       "    </tr>\n",
       "  </tbody>\n",
       "</table>\n",
       "<p>255 rows × 5 columns</p>\n",
       "</div>"
      ],
      "text/plain": [
       "     openmonkey_source  cub_target  linmse_0.0  linmse_1.0     logme\n",
       "0                    6           8   -0.067813   -0.080991 -0.130522\n",
       "1                    2           8   -0.066895   -0.080993 -0.121266\n",
       "2                    1          10   -0.012645   -0.017705  0.718397\n",
       "3                   13          10   -0.013624   -0.017714  0.654683\n",
       "4                   10           3   -0.030904   -0.039254  0.230165\n",
       "..                 ...         ...         ...         ...       ...\n",
       "250                  9           7   -0.032198   -0.042293  0.218401\n",
       "251                  5           7   -0.032704   -0.042295  0.225340\n",
       "252                 13           5   -0.011901   -0.017452  0.676503\n",
       "253                 11          11   -0.038638   -0.058813  0.147090\n",
       "254                  1           7   -0.030386   -0.042286  0.262143\n",
       "\n",
       "[255 rows x 5 columns]"
      ]
     },
     "execution_count": 12,
     "metadata": {},
     "output_type": "execute_result"
    }
   ],
   "source": [
    "results_df"
   ]
  },
  {
   "cell_type": "code",
   "execution_count": 13,
   "metadata": {},
   "outputs": [
    {
     "data": {
      "text/html": [
       "<div>\n",
       "<style scoped>\n",
       "    .dataframe tbody tr th:only-of-type {\n",
       "        vertical-align: middle;\n",
       "    }\n",
       "\n",
       "    .dataframe tbody tr th {\n",
       "        vertical-align: top;\n",
       "    }\n",
       "\n",
       "    .dataframe thead th {\n",
       "        text-align: right;\n",
       "    }\n",
       "</style>\n",
       "<table border=\"1\" class=\"dataframe\">\n",
       "  <thead>\n",
       "    <tr style=\"text-align: right;\">\n",
       "      <th></th>\n",
       "      <th>openmonkey_source</th>\n",
       "      <th>cub_target</th>\n",
       "      <th>mse</th>\n",
       "      <th>linmse_0.0</th>\n",
       "      <th>linmse_1.0</th>\n",
       "      <th>logme</th>\n",
       "    </tr>\n",
       "  </thead>\n",
       "  <tbody>\n",
       "    <tr>\n",
       "      <th>0</th>\n",
       "      <td>14</td>\n",
       "      <td>1</td>\n",
       "      <td>-0.087675</td>\n",
       "      <td>-0.035338</td>\n",
       "      <td>-0.043037</td>\n",
       "      <td>0.188655</td>\n",
       "    </tr>\n",
       "    <tr>\n",
       "      <th>1</th>\n",
       "      <td>14</td>\n",
       "      <td>2</td>\n",
       "      <td>-0.050266</td>\n",
       "      <td>-0.016480</td>\n",
       "      <td>-0.025843</td>\n",
       "      <td>0.542057</td>\n",
       "    </tr>\n",
       "    <tr>\n",
       "      <th>2</th>\n",
       "      <td>14</td>\n",
       "      <td>3</td>\n",
       "      <td>-0.075790</td>\n",
       "      <td>-0.029588</td>\n",
       "      <td>-0.039254</td>\n",
       "      <td>0.234948</td>\n",
       "    </tr>\n",
       "    <tr>\n",
       "      <th>3</th>\n",
       "      <td>14</td>\n",
       "      <td>4</td>\n",
       "      <td>-0.055507</td>\n",
       "      <td>-0.022277</td>\n",
       "      <td>-0.028812</td>\n",
       "      <td>0.404316</td>\n",
       "    </tr>\n",
       "    <tr>\n",
       "      <th>4</th>\n",
       "      <td>14</td>\n",
       "      <td>5</td>\n",
       "      <td>-0.034225</td>\n",
       "      <td>-0.011697</td>\n",
       "      <td>-0.017450</td>\n",
       "      <td>0.703516</td>\n",
       "    </tr>\n",
       "  </tbody>\n",
       "</table>\n",
       "</div>"
      ],
      "text/plain": [
       "   openmonkey_source  cub_target       mse  linmse_0.0  linmse_1.0     logme\n",
       "0                 14           1 -0.087675   -0.035338   -0.043037  0.188655\n",
       "1                 14           2 -0.050266   -0.016480   -0.025843  0.542057\n",
       "2                 14           3 -0.075790   -0.029588   -0.039254  0.234948\n",
       "3                 14           4 -0.055507   -0.022277   -0.028812  0.404316\n",
       "4                 14           5 -0.034225   -0.011697   -0.017450  0.703516"
      ]
     },
     "execution_count": 13,
     "metadata": {},
     "output_type": "execute_result"
    }
   ],
   "source": [
    "mse_df = pd.read_csv(\"./asset/csv_file/ok_cub_head_mse.csv\")\n",
    "df = mse_df.merge(results_df, on=[\"openmonkey_source\", \"cub_target\"])\n",
    "df.head()"
   ]
  },
  {
   "cell_type": "code",
   "execution_count": 14,
   "metadata": {},
   "outputs": [
    {
     "name": "stdout",
     "output_type": "stream",
     "text": [
      "Method: logme - Pearson: 0.969 - Kendall: 0.904 - Spearman: 0.988\n",
      "Method: linmse_0.0 - Pearson: 0.981 - Kendall: 0.901 - Spearman: 0.985\n",
      "Method: linmse_1.0 - Pearson: 0.994 - Kendall: 0.924 - Spearman: 0.99\n"
     ]
    }
   ],
   "source": [
    "keys = [\n",
    "        'logme',\n",
    "        'linmse_0.0', \n",
    "        'linmse_1.0',\n",
    "        ]\n",
    "for key in keys:\n",
    "    df['mse'].corr(df[key])\n",
    "    pearson_corr = df.mse.corr(df[key])\n",
    "    kendall_corr = df.mse.corr(df[key], method='kendall')\n",
    "    spearman_corr = df.mse.corr(df[key], method='spearman')\n",
    "    print(f\"Method: {key} - Pearson: {round(pearson_corr,3)} - Kendall: {round(kendall_corr,3)} - Spearman: {round(spearman_corr,3)}\")"
   ]
  }
 ],
 "metadata": {
  "kernelspec": {
   "display_name": "transfer",
   "language": "python",
   "name": "python3"
  },
  "language_info": {
   "codemirror_mode": {
    "name": "ipython",
    "version": 3
   },
   "file_extension": ".py",
   "mimetype": "text/x-python",
   "name": "python",
   "nbconvert_exporter": "python",
   "pygments_lexer": "ipython3",
   "version": "3.7.11"
  },
  "orig_nbformat": 4,
  "vscode": {
   "interpreter": {
    "hash": "8ecfffe665c96838669cbe0154e6d3822b2eaaece84eff280ed80eb2501756d6"
   }
  }
 },
 "nbformat": 4,
 "nbformat_minor": 2
}
